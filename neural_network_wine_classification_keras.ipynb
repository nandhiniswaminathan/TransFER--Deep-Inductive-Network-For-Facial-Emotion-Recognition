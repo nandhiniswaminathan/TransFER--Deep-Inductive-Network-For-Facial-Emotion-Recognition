{
  "nbformat": 4,
  "nbformat_minor": 0,
  "metadata": {
    "colab": {
      "name": "neural network wine classification keras",
      "provenance": [],
      "collapsed_sections": [],
      "include_colab_link": true
    },
    "kernelspec": {
      "name": "python3",
      "display_name": "Python 3"
    }
  },
  "cells": [
    {
      "cell_type": "markdown",
      "metadata": {
        "id": "view-in-github",
        "colab_type": "text"
      },
      "source": [
        "<a href=\"https://colab.research.google.com/github/nandhiniswaminathan/face-recognition/blob/master/neural_network_wine_classification_keras.ipynb\" target=\"_parent\"><img src=\"https://colab.research.google.com/assets/colab-badge.svg\" alt=\"Open In Colab\"/></a>"
      ]
    },
    {
      "cell_type": "code",
      "metadata": {
        "id": "KYPGn-jEBIUS",
        "colab_type": "code",
        "outputId": "0da6b9cc-2af2-4430-d7fe-c8ae4a089b51",
        "colab": {
          "base_uri": "https://localhost:8080/",
          "height": 34
        }
      },
      "source": [
        "import pandas as pd\n",
        "\n",
        "print(\"there you go\")"
      ],
      "execution_count": 0,
      "outputs": [
        {
          "output_type": "stream",
          "text": [
            "there you go\n"
          ],
          "name": "stdout"
        }
      ]
    },
    {
      "cell_type": "markdown",
      "metadata": {
        "id": "bFQNSSaQ4mJq",
        "colab_type": "text"
      },
      "source": [
        "Inputting data"
      ]
    },
    {
      "cell_type": "code",
      "metadata": {
        "id": "eopNJPBy0cOT",
        "colab_type": "code",
        "outputId": "aa6e6502-6054-46a0-8e74-b4bed9527c29",
        "colab": {
          "base_uri": "https://localhost:8080/",
          "height": 34
        }
      },
      "source": [
        "white = pd.read_csv(\"http://archive.ics.uci.edu/ml/machine-learning-databases/wine-quality/winequality-white.csv\", sep=';')\n",
        "\n",
        "# Read in red wine data \n",
        "red = pd.read_csv(\"http://archive.ics.uci.edu/ml/machine-learning-databases/wine-quality/winequality-red.csv\", sep=';')\n",
        "\n",
        "#print(\"dumb man\")"
      ],
      "execution_count": 0,
      "outputs": [
        {
          "output_type": "stream",
          "text": [
            "dumb man\n"
          ],
          "name": "stdout"
        }
      ]
    },
    {
      "cell_type": "markdown",
      "metadata": {
        "id": "M0rsiPD94sKY",
        "colab_type": "text"
      },
      "source": [
        "Data Exploration"
      ]
    },
    {
      "cell_type": "code",
      "metadata": {
        "id": "44T79LyL1QP7",
        "colab_type": "code",
        "colab": {}
      },
      "source": [
        "red.info()\n",
        "white.describe()\n",
        "red.isnull()"
      ],
      "execution_count": 0,
      "outputs": []
    },
    {
      "cell_type": "markdown",
      "metadata": {
        "id": "bIS45nJB5DBC",
        "colab_type": "text"
      },
      "source": [
        "Data Visualisation"
      ]
    },
    {
      "cell_type": "code",
      "metadata": {
        "id": "nuo_y6n45HIH",
        "colab_type": "code",
        "colab": {}
      },
      "source": [
        "import matplotlib.pyplot as plt\n",
        "\n",
        "fig, ax = plt.subplots(1, 2)\n",
        "\n",
        "ax[0].hist(red.alcohol, 10, facecolor='red', alpha=0.5, label=\"Red wine\")\n",
        "ax[1].hist(white.alcohol, 10, facecolor='grey', ec=\"black\", lw=0.5, alpha=0.5, label=\"White wine\")\n",
        "\n",
        "fig.subplots_adjust(left=0, right=1, bottom=0, top=0.5, hspace=0.05, wspace=1)\n",
        "ax[0].set_ylim([0, 1000])\n",
        "ax[0].set_xlabel(\"Alcohol in % Vol for red\")\n",
        "ax[0].set_ylabel(\"Frequency\")\n",
        "ax[1].set_xlabel(\"Alcohol in % Vol for white\")\n",
        "ax[1].set_ylabel(\"Frequency\")\n",
        "#ax[0].legend(loc='best')\n",
        "#ax[1].legend(loc='best')\n",
        "fig.suptitle(\"Distribution of Alcohol in % Vol\")\n",
        "\n",
        "plt.show()"
      ],
      "execution_count": 0,
      "outputs": []
    },
    {
      "cell_type": "markdown",
      "metadata": {
        "id": "hks7Vtsq6DWG",
        "colab_type": "text"
      },
      "source": [
        "Histograms.\n",
        "Cuz why not?"
      ]
    },
    {
      "cell_type": "code",
      "metadata": {
        "id": "UoCvVOa36Dln",
        "colab_type": "code",
        "outputId": "1db4785d-89b9-4a83-8970-cdf7a13f49e9",
        "colab": {
          "base_uri": "https://localhost:8080/",
          "height": 50
        }
      },
      "source": [
        "import numpy as np\n",
        "print(np.histogram(red.alcohol, bins=[7,8,9,10,11,12,13,14,15]))\n",
        "print(np.histogram(white.alcohol, bins=[7,8,9,10,11,12,13,14,15]))"
      ],
      "execution_count": 0,
      "outputs": [
        {
          "output_type": "stream",
          "text": [
            "(array([  0,   7, 673, 452, 305, 133,  21,   8]), array([ 7,  8,  9, 10, 11, 12, 13, 14, 15]))\n",
            "(array([   0,  317, 1606, 1256,  906,  675,  131,    7]), array([ 7,  8,  9, 10, 11, 12, 13, 14, 15]))\n"
          ],
          "name": "stdout"
        }
      ]
    },
    {
      "cell_type": "markdown",
      "metadata": {
        "id": "EyIaYhGO6taI",
        "colab_type": "text"
      },
      "source": [
        "We also understand through further data exploration and visualisaton that sulfates are a determining factor\n"
      ]
    },
    {
      "cell_type": "code",
      "metadata": {
        "id": "H-WVPPic6tqc",
        "colab_type": "code",
        "colab": {}
      },
      "source": [
        ""
      ],
      "execution_count": 0,
      "outputs": []
    },
    {
      "cell_type": "markdown",
      "metadata": {
        "id": "bI_khzUzMpIi",
        "colab_type": "text"
      },
      "source": [
        "Sulfates"
      ]
    },
    {
      "cell_type": "code",
      "metadata": {
        "id": "7dAT7qvpEqRL",
        "colab_type": "code",
        "outputId": "9add2c2f-051e-4e92-873b-3226a83d48ff",
        "colab": {
          "base_uri": "https://localhost:8080/",
          "height": 308
        }
      },
      "source": [
        "import matplotlib.pyplot as plt\n",
        "\n",
        "fig, ax = plt.subplots(1, 2, figsize=(8, 4))\n",
        "\n",
        "ax[0].scatter(red['quality'], red[\"sulphates\"], color=\"red\")\n",
        "ax[1].scatter(white['quality'], white['sulphates'], color=\"white\", edgecolors=\"black\", lw=0.5)\n",
        "\n",
        "ax[0].set_title(\"Red Wine\")\n",
        "ax[1].set_title(\"White Wine\")\n",
        "ax[0].set_xlabel(\"Quality\")\n",
        "ax[1].set_xlabel(\"Quality\")\n",
        "ax[0].set_ylabel(\"Sulphates\")\n",
        "ax[1].set_ylabel(\"Sulphates\")\n",
        "ax[0].set_xlim([0,10])\n",
        "ax[1].set_xlim([0,10])\n",
        "ax[0].set_ylim([0,2.5])\n",
        "ax[1].set_ylim([0,2.5])\n",
        "fig.subplots_adjust(wspace=0.5)\n",
        "fig.suptitle(\"Wine Quality by Amount of Sulphates\")\n",
        "\n",
        "plt.show()"
      ],
      "execution_count": 0,
      "outputs": [
        {
          "output_type": "display_data",
          "data": {
            "image/png": "[encoded data removed]",
            "text/plain": [
              "<Figure size 576x288 with 2 Axes>"
            ]
          },
          "metadata": {
            "tags": []
          }
        }
      ]
    },
    {
      "cell_type": "markdown",
      "metadata": {
        "id": "G5Ztavs9MwB1",
        "colab_type": "text"
      },
      "source": [
        "Acidity\n",
        "\n",
        "\n",
        "\n",
        " The colors in this image are randomly chosen with the help of the NumPy random module. You can always change this by passing a list to the redcolors or whitecolors variables. Make sure that they are the same (except for 1 because the white wine data has one unique quality value more than the red wine data), though, otherwise your legends are not going to match!"
      ]
    },
    {
      "cell_type": "code",
      "metadata": {
        "id": "U2w-U1kZEq1z",
        "colab_type": "code",
        "colab": {}
      },
      "source": [
        "import matplotlib.pyplot as plt\n",
        "import numpy as np\n",
        "\n",
        "np.random.seed(570)\n",
        "\n",
        "redlabels = np.unique(red['quality'])\n",
        "whitelabels = np.unique(white['quality'])\n",
        "\n",
        "import matplotlib.pyplot as plt\n",
        "fig, ax = plt.subplots(1, 2, figsize=(8, 4))\n",
        "redcolors = np.random.rand(6,4)\n",
        "whitecolors = np.append(redcolors, np.random.rand(1,4), axis=0)\n",
        "import matplotlib.pyplot as plt\n",
        "fig, ax = plt.subplots(1, 2, figsize=(8, 4))\n",
        "redcolors = np.random.rand(6,4)\n",
        "whitecolors = np.append(redcolors, np.random.rand(1,4), axis=0)\n",
        "for i in range(len(redcolors)):\n",
        "    redy = red['alcohol'][red.quality == redlabels[i]]\n",
        "    redx = red['volatile acidity'][red.quality == redlabels[i]]\n",
        "    ax[0].scatter(redx, redy, c=redcolors[i])\n",
        "for i in range(len(whitecolors)):\n",
        "    whitey = white['alcohol'][white.quality == whitelabels[i]]\n",
        "    whitex = white['volatile acidity'][white.quality == whitelabels[i]]\n",
        "    ax[1].scatter(whitex, whitey, c=whitecolors[i])\n",
        "    \n",
        "ax[0].set_title(\"Red Wine\")\n",
        "ax[1].set_title(\"White Wine\")\n",
        "ax[0].set_xlim([0,1.7])\n",
        "ax[1].set_xlim([0,1.7])\n",
        "ax[0].set_ylim([5,15.5])\n",
        "ax[1].set_ylim([5,15.5])\n",
        "ax[0].set_xlabel(\"Volatile Acidity\")\n",
        "ax[0].set_ylabel(\"Alcohol\")\n",
        "ax[1].set_xlabel(\"Volatile Acidity\")\n",
        "ax[1].set_ylabel(\"Alcohol\") \n",
        "#ax[0].legend(redlabels, loc='best', bbox_to_anchor=(1.3, 1))\n",
        "ax[1].legend(whitelabels, loc='best', bbox_to_anchor=(1.3, 1))\n",
        "#fig.suptitle(\"Alcohol - Volatile Acidity\")\n",
        "fig.subplots_adjust(top=0.85, wspace=0.7)\n",
        "\n",
        "plt.show()"
      ],
      "execution_count": 0,
      "outputs": []
    },
    {
      "cell_type": "markdown",
      "metadata": {
        "id": "Rfum_lQlNWwP",
        "colab_type": "text"
      },
      "source": [
        "Preprocess Data"
      ]
    },
    {
      "cell_type": "code",
      "metadata": {
        "id": "EB0OuNINNgvq",
        "colab_type": "code",
        "colab": {}
      },
      "source": [
        "# Add `type` column to `red` with value 1\n",
        "red['type'] = 1\n",
        "\n",
        "# Add `type` column to `white` with value 0\n",
        "white['type'] = 0\n",
        "\n",
        "# Append `white` to `red`\n",
        "wines = red.append(white, ignore_index=True)"
      ],
      "execution_count": 0,
      "outputs": []
    },
    {
      "cell_type": "markdown",
      "metadata": {
        "id": "CaFHn8chNtiR",
        "colab_type": "text"
      },
      "source": [
        "correlation matrix for a solid insight which is tbh  better than those graphs"
      ]
    },
    {
      "cell_type": "code",
      "metadata": {
        "id": "PvqYA2OxNxNe",
        "colab_type": "code",
        "outputId": "3f07f205-4f6a-4927-c49e-2dfe3ef40d5e",
        "colab": {
          "base_uri": "https://localhost:8080/",
          "height": 527
        }
      },
      "source": [
        "import seaborn as sns\n",
        "corr = wines.corr()\n",
        "sns.heatmap(corr, \n",
        "            xticklabels=corr.columns.values,\n",
        "            yticklabels=corr.columns.values)\n",
        "sns.plt.show()"
      ],
      "execution_count": 0,
      "outputs": [
        {
          "output_type": "error",
          "ename": "AttributeError",
          "evalue": "ignored",
          "traceback": [
            "\u001b[0;31m---------------------------------------------------------------------------\u001b[0m",
            "\u001b[0;31mAttributeError\u001b[0m                            Traceback (most recent call last)",
            "\u001b[0;32m<ipython-input-29-a5150df2747a>\u001b[0m in \u001b[0;36m<module>\u001b[0;34m()\u001b[0m\n\u001b[1;32m      4\u001b[0m             \u001b[0mxticklabels\u001b[0m\u001b[0;34m=\u001b[0m\u001b[0mcorr\u001b[0m\u001b[0;34m.\u001b[0m\u001b[0mcolumns\u001b[0m\u001b[0;34m.\u001b[0m\u001b[0mvalues\u001b[0m\u001b[0;34m,\u001b[0m\u001b[0;34m\u001b[0m\u001b[0;34m\u001b[0m\u001b[0m\n\u001b[1;32m      5\u001b[0m             yticklabels=corr.columns.values)\n\u001b[0;32m----> 6\u001b[0;31m \u001b[0msns\u001b[0m\u001b[0;34m.\u001b[0m\u001b[0mplt\u001b[0m\u001b[0;34m.\u001b[0m\u001b[0mshow\u001b[0m\u001b[0;34m(\u001b[0m\u001b[0;34m)\u001b[0m\u001b[0;34m\u001b[0m\u001b[0;34m\u001b[0m\u001b[0m\n\u001b[0m",
            "\u001b[0;31mAttributeError\u001b[0m: module 'seaborn' has no attribute 'plt'"
          ]
        },
        {
          "output_type": "display_data",
          "data": {
            "image/png": "[encoded data removed]",
            "text/plain": [
              "<Figure size 432x288 with 2 Axes>"
            ]
          },
          "metadata": {
            "tags": []
          }
        }
      ]
    },
    {
      "cell_type": "markdown",
      "metadata": {
        "id": "kF-Yu4BxO6A9",
        "colab_type": "text"
      },
      "source": [
        "Import train_test_split from sklearn.model_selection"
      ]
    },
    {
      "cell_type": "code",
      "metadata": {
        "id": "pzdadGw0O7mL",
        "colab_type": "code",
        "colab": {}
      },
      "source": [
        "from sklearn.model_selection import train_test_split\n",
        "\n",
        "# Specify the data \n",
        "X=wines.iloc[:,0:11]\n",
        "\n",
        "# Specify the target labels and flatten the array \n",
        "y=np.ravel(wines.type)\n",
        "\n",
        "# Split the data up in train and test sets\n",
        "X_train, X_test, y_train, y_test = train_test_split(X, y, test_size=0.33, random_state=42)"
      ],
      "execution_count": 0,
      "outputs": []
    },
    {
      "cell_type": "markdown",
      "metadata": {
        "id": "EIwQBdHaQBG1",
        "colab_type": "text"
      },
      "source": [
        "Standardize The Data\n",
        "\n",
        "\n",
        "\n",
        "Standardization is a way to deal with these values that lie so far apart. The scikit-learn package offers you a great and quick way of getting your data standardized: import the StandardScaler module from sklearn.preprocessing and you’re ready to scale your train and test data!"
      ]
    },
    {
      "cell_type": "code",
      "metadata": {
        "id": "RVkEAj8cQBSq",
        "colab_type": "code",
        "colab": {}
      },
      "source": [
        "from sklearn.preprocessing import StandardScaler\n",
        "\n",
        "# Define the scaler \n",
        "scaler = StandardScaler().fit(X_train)\n",
        "\n",
        "# Scale the train set\n",
        "X_train = scaler.transform(X_train)\n",
        "\n",
        "# Scale the test set\n",
        "X_test = scaler.transform(X_test)"
      ],
      "execution_count": 0,
      "outputs": []
    },
    {
      "cell_type": "code",
      "metadata": {
        "id": "mi00qaUGSJ66",
        "colab_type": "code",
        "outputId": "5220583e-63dc-4290-d1af-ae7497403eba",
        "colab": {
          "base_uri": "https://localhost:8080/",
          "height": 200
        }
      },
      "source": [
        "from keras.models import Sequential\n",
        "\n",
        "# Import `Dense` from `keras.layers`\n",
        "from keras.layers import Dense\n",
        "\n",
        "# Initialize the constructor\n",
        "model = Sequential()\n",
        "\n",
        "# Add an input layer \n",
        "model.add(Dense(12, activation='relu', input_shape=(11,)))\n",
        "\n",
        "# Add one hidden layer \n",
        "model.add(Dense(8, activation='relu'))\n",
        "\n",
        "# Add an output layer \n",
        "model.add(Dense(1, activation='sigmoid'))"
      ],
      "execution_count": 0,
      "outputs": [
        {
          "output_type": "stream",
          "text": [
            "Using TensorFlow backend.\n"
          ],
          "name": "stderr"
        },
        {
          "output_type": "display_data",
          "data": {
            "text/html": [
              "<p style=\"color: red;\">\n",
              "The default version of TensorFlow in Colab will soon switch to TensorFlow 2.x.<br>\n",
              "We recommend you <a href=\"https://www.tensorflow.org/guide/migrate\" target=\"_blank\">upgrade</a> now \n",
              "or ensure your notebook will continue to use TensorFlow 1.x via the <code>%tensorflow_version 1.x</code> magic:\n",
              "<a href=\"https://colab.research.google.com/notebooks/tensorflow_version.ipynb\" target=\"_blank\">more info</a>.</p>\n"
            ],
            "text/plain": [
              "<IPython.core.display.HTML object>"
            ]
          },
          "metadata": {
            "tags": []
          }
        },
        {
          "output_type": "stream",
          "text": [
            "WARNING:tensorflow:From /usr/local/lib/python3.6/dist-packages/keras/backend/tensorflow_backend.py:66: The name tf.get_default_graph is deprecated. Please use tf.compat.v1.get_default_graph instead.\n",
            "\n",
            "WARNING:tensorflow:From /usr/local/lib/python3.6/dist-packages/keras/backend/tensorflow_backend.py:541: The name tf.placeholder is deprecated. Please use tf.compat.v1.placeholder instead.\n",
            "\n",
            "WARNING:tensorflow:From /usr/local/lib/python3.6/dist-packages/keras/backend/tensorflow_backend.py:4432: The name tf.random_uniform is deprecated. Please use tf.random.uniform instead.\n",
            "\n"
          ],
          "name": "stdout"
        }
      ]
    },
    {
      "cell_type": "code",
      "metadata": {
        "id": "XHGXrC4cSZtk",
        "colab_type": "code",
        "outputId": "18aaf497-a2fb-4aeb-d8e2-0949195169f3",
        "colab": {
          "base_uri": "https://localhost:8080/",
          "height": 1000
        }
      },
      "source": [
        "model.get_config()\n",
        "model.summary()\n",
        "# List all weight tensors \n",
        "model.get_weights()"
      ],
      "execution_count": 0,
      "outputs": [
        {
          "output_type": "stream",
          "text": [
            "Model: \"sequential_1\"\n",
            "_________________________________________________________________\n",
            "Layer (type)                 Output Shape              Param #   \n",
            "=================================================================\n",
            "dense_1 (Dense)              (None, 12)                144       \n",
            "_________________________________________________________________\n",
            "dense_2 (Dense)              (None, 8)                 104       \n",
            "_________________________________________________________________\n",
            "dense_3 (Dense)              (None, 1)                 9         \n",
            "=================================================================\n",
            "Total params: 257\n",
            "Trainable params: 257\n",
            "Non-trainable params: 0\n",
            "_________________________________________________________________\n"
          ],
          "name": "stdout"
        },
        {
          "output_type": "execute_result",
          "data": {
            "text/plain": [
              "[array([[-0.29893574,  0.1344598 ,  0.13479418, -0.4117048 ,  0.4178658 ,\n",
              "          0.2751214 ,  0.3895148 ,  0.40468204, -0.04536381, -0.05943763,\n",
              "          0.32893908,  0.39087683],\n",
              "        [-0.1891394 ,  0.42445546,  0.3721552 , -0.42325377, -0.09202951,\n",
              "         -0.26147997, -0.38362914,  0.4144168 ,  0.29331714, -0.31598642,\n",
              "          0.2991094 , -0.26264733],\n",
              "        [ 0.10789913, -0.33662504,  0.0893181 ,  0.00627339, -0.4771455 ,\n",
              "          0.29548836, -0.15524054, -0.23642784, -0.50122494,  0.37928742,\n",
              "         -0.37462157,  0.22466356],\n",
              "        [-0.05772769,  0.49392945, -0.24702927,  0.212722  , -0.10569903,\n",
              "         -0.3369816 ,  0.2560829 ,  0.09212792,  0.41777992,  0.02467781,\n",
              "         -0.38753793, -0.27090305],\n",
              "        [-0.1728242 , -0.27574426, -0.04083994, -0.33382547, -0.08132309,\n",
              "          0.4145326 ,  0.34165293, -0.22079664, -0.22692028,  0.49156922,\n",
              "          0.30618572,  0.19295287],\n",
              "        [ 0.05382645, -0.14530566,  0.38333493, -0.20723978, -0.0892342 ,\n",
              "         -0.05101848,  0.47876436, -0.1577895 ,  0.45504594, -0.17608312,\n",
              "          0.49847466,  0.30844647],\n",
              "        [-0.19813928, -0.04269662, -0.13650975, -0.49871263, -0.48101643,\n",
              "          0.50635403,  0.23800611,  0.31447327,  0.38215506,  0.2640906 ,\n",
              "         -0.34727764,  0.2190156 ],\n",
              "        [ 0.06413031, -0.00195336, -0.43527293,  0.40534717, -0.25662076,\n",
              "         -0.49812326, -0.18429074, -0.12855539, -0.02070183, -0.3014065 ,\n",
              "          0.49261862,  0.32542688],\n",
              "        [-0.34858403,  0.18109834,  0.15466213,  0.231067  , -0.4924754 ,\n",
              "          0.50375277, -0.35301876, -0.29329932, -0.00583404,  0.2687273 ,\n",
              "          0.48654222,  0.11156303],\n",
              "        [-0.05006742, -0.2291905 , -0.24880439, -0.4149049 , -0.39421964,\n",
              "         -0.04933265, -0.3379163 , -0.23716298,  0.20647794, -0.2833187 ,\n",
              "         -0.3476997 ,  0.48154932],\n",
              "        [ 0.07722068, -0.14656699,  0.03186476,  0.17714292, -0.3606587 ,\n",
              "         -0.40758717, -0.26862454,  0.22420156, -0.35143632, -0.0267677 ,\n",
              "         -0.23296267, -0.03692541]], dtype=float32),\n",
              " array([0., 0., 0., 0., 0., 0., 0., 0., 0., 0., 0., 0.], dtype=float32),\n",
              " array([[ 2.1320194e-01, -4.0925020e-01, -4.1272619e-01,  8.2056463e-02,\n",
              "          1.6932660e-01,  2.0003980e-01,  3.6536676e-01, -3.4967619e-01],\n",
              "        [ 5.4091811e-03,  5.2322149e-02,  3.6390108e-01, -3.2393470e-01,\n",
              "          6.8748832e-02,  2.8914213e-04, -2.8072405e-01, -3.0086020e-01],\n",
              "        [-3.1808180e-01, -1.9952568e-01,  2.2954392e-01,  3.0822635e-02,\n",
              "          4.9250484e-01, -3.1185773e-01, -2.5485516e-02,  3.4807819e-01],\n",
              "        [ 2.6875299e-01,  4.8220372e-01,  3.2828039e-01,  5.1929295e-01,\n",
              "          4.6471834e-02,  4.5099616e-02, -1.2639838e-01, -3.3536658e-01],\n",
              "        [ 5.3434336e-01, -1.5708822e-01, -1.8462002e-02,  5.2741981e-01,\n",
              "          1.9767523e-02,  2.9391712e-01, -3.8320696e-01, -1.3391930e-01],\n",
              "        [ 3.2473171e-01,  3.2988715e-01, -4.9287796e-02, -2.6151296e-01,\n",
              "         -2.9350436e-01,  9.5417202e-02,  2.4618632e-01, -4.7732377e-01],\n",
              "        [ 3.3258116e-01,  1.5039796e-01,  3.8211888e-01, -5.7595372e-02,\n",
              "         -1.1646330e-01, -1.9984680e-01,  2.5675291e-01, -3.7772697e-01],\n",
              "        [ 2.5308681e-01,  2.7213168e-01,  3.2195264e-01, -1.5111268e-01,\n",
              "         -1.0678914e-01,  2.2929645e-01,  5.2806115e-01, -3.3580661e-02],\n",
              "        [ 3.3349907e-01,  2.6153070e-01, -3.2762522e-01,  1.9948965e-01,\n",
              "          6.0530305e-02,  4.5585346e-01, -5.0544143e-01,  5.0166464e-01],\n",
              "        [ 5.4543054e-01, -2.4398082e-01, -1.9683754e-01, -3.0166215e-01,\n",
              "         -5.2642560e-01, -5.3038347e-01,  3.6491454e-01, -4.5038024e-01],\n",
              "        [ 3.1846452e-01, -1.6965508e-02,  4.4623446e-01, -2.5344881e-01,\n",
              "         -3.1319833e-01,  1.7617017e-01, -2.5948429e-01,  3.6867350e-01],\n",
              "        [ 1.2952030e-02,  4.6062887e-01,  1.0626459e-01, -1.4503136e-01,\n",
              "          2.3245341e-01, -2.7291009e-01,  2.7167606e-01,  1.2645960e-02]],\n",
              "       dtype=float32),\n",
              " array([0., 0., 0., 0., 0., 0., 0., 0.], dtype=float32),\n",
              " array([[ 0.21137166],\n",
              "        [ 0.46008933],\n",
              "        [-0.53267694],\n",
              "        [-0.24238747],\n",
              "        [-0.12804711],\n",
              "        [ 0.35688305],\n",
              "        [ 0.27429843],\n",
              "        [-0.42448574]], dtype=float32),\n",
              " array([0.], dtype=float32)]"
            ]
          },
          "metadata": {
            "tags": []
          },
          "execution_count": 34
        }
      ]
    },
    {
      "cell_type": "code",
      "metadata": {
        "id": "31ILUIijSzJJ",
        "colab_type": "code",
        "outputId": "633b83c4-861a-41a9-8cad-4987261f7ce6",
        "colab": {
          "base_uri": "https://localhost:8080/",
          "height": 910
        }
      },
      "source": [
        "model.compile(loss='binary_crossentropy',\n",
        "              optimizer='adam',\n",
        "              metrics=['accuracy'])\n",
        "                   \n",
        "model.fit(X_train, y_train,epochs=20, batch_size=1, verbose=1)"
      ],
      "execution_count": 0,
      "outputs": [
        {
          "output_type": "stream",
          "text": [
            "WARNING:tensorflow:From /usr/local/lib/python3.6/dist-packages/keras/optimizers.py:793: The name tf.train.Optimizer is deprecated. Please use tf.compat.v1.train.Optimizer instead.\n",
            "\n",
            "WARNING:tensorflow:From /usr/local/lib/python3.6/dist-packages/keras/backend/tensorflow_backend.py:3657: The name tf.log is deprecated. Please use tf.math.log instead.\n",
            "\n",
            "WARNING:tensorflow:From /usr/local/lib/python3.6/dist-packages/tensorflow_core/python/ops/nn_impl.py:183: where (from tensorflow.python.ops.array_ops) is deprecated and will be removed in a future version.\n",
            "Instructions for updating:\n",
            "Use tf.where in 2.0, which has the same broadcast rule as np.where\n",
            "WARNING:tensorflow:From /usr/local/lib/python3.6/dist-packages/keras/backend/tensorflow_backend.py:1033: The name tf.assign_add is deprecated. Please use tf.compat.v1.assign_add instead.\n",
            "\n",
            "WARNING:tensorflow:From /usr/local/lib/python3.6/dist-packages/keras/backend/tensorflow_backend.py:1020: The name tf.assign is deprecated. Please use tf.compat.v1.assign instead.\n",
            "\n",
            "Epoch 1/20\n",
            "4352/4352 [==============================] - 5s 1ms/step - loss: 2.8064 - acc: 0.7705\n",
            "Epoch 2/20\n",
            "4352/4352 [==============================] - 5s 1ms/step - loss: 0.1786 - acc: 0.9380\n",
            "Epoch 3/20\n",
            "4352/4352 [==============================] - 5s 1ms/step - loss: 0.1447 - acc: 0.9515\n",
            "Epoch 4/20\n",
            "4352/4352 [==============================] - 5s 1ms/step - loss: 0.1174 - acc: 0.9593\n",
            "Epoch 5/20\n",
            "4352/4352 [==============================] - 5s 1ms/step - loss: 0.1009 - acc: 0.9642\n",
            "Epoch 6/20\n",
            "4352/4352 [==============================] - 5s 1ms/step - loss: 0.0926 - acc: 0.9722\n",
            "Epoch 7/20\n",
            "4352/4352 [==============================] - 5s 1ms/step - loss: 0.0820 - acc: 0.9761\n",
            "Epoch 8/20\n",
            "4352/4352 [==============================] - 5s 1ms/step - loss: 0.0800 - acc: 0.9768\n",
            "Epoch 9/20\n",
            "4352/4352 [==============================] - 5s 1ms/step - loss: 0.0814 - acc: 0.9750\n",
            "Epoch 10/20\n",
            "4352/4352 [==============================] - 5s 1ms/step - loss: 0.0725 - acc: 0.9784\n",
            "Epoch 11/20\n",
            "4352/4352 [==============================] - 5s 1ms/step - loss: 0.0768 - acc: 0.9750\n",
            "Epoch 12/20\n",
            "4352/4352 [==============================] - 5s 1ms/step - loss: 0.0733 - acc: 0.9782\n",
            "Epoch 13/20\n",
            "4352/4352 [==============================] - 5s 1ms/step - loss: 0.0686 - acc: 0.9777\n",
            "Epoch 14/20\n",
            "4352/4352 [==============================] - 5s 1ms/step - loss: 0.0692 - acc: 0.9789\n",
            "Epoch 15/20\n",
            "4352/4352 [==============================] - 5s 1ms/step - loss: 0.0680 - acc: 0.9789\n",
            "Epoch 16/20\n",
            "4352/4352 [==============================] - 5s 1ms/step - loss: 0.0727 - acc: 0.9777\n",
            "Epoch 17/20\n",
            "4352/4352 [==============================] - 5s 1ms/step - loss: 0.0666 - acc: 0.9802\n",
            "Epoch 18/20\n",
            "4352/4352 [==============================] - 5s 1ms/step - loss: 0.0673 - acc: 0.9786\n",
            "Epoch 19/20\n",
            "4352/4352 [==============================] - 5s 1ms/step - loss: 0.0646 - acc: 0.9812\n",
            "Epoch 20/20\n",
            "4352/4352 [==============================] - 5s 1ms/step - loss: 0.0630 - acc: 0.9809\n"
          ],
          "name": "stdout"
        },
        {
          "output_type": "execute_result",
          "data": {
            "text/plain": [
              "<keras.callbacks.History at 0x7f8a0da97be0>"
            ]
          },
          "metadata": {
            "tags": []
          },
          "execution_count": 35
        }
      ]
    },
    {
      "cell_type": "code",
      "metadata": {
        "id": "EUf3KAJrThtb",
        "colab_type": "code",
        "outputId": "c1226749-c870-4db9-a881-da3a4a1ec8ee",
        "colab": {
          "base_uri": "https://localhost:8080/",
          "height": 50
        }
      },
      "source": [
        "y_pred = model.predict(X_test)\n",
        "score = model.evaluate(X_test, y_test,verbose=1)\n",
        "\n",
        "print(score)"
      ],
      "execution_count": 0,
      "outputs": [
        {
          "output_type": "stream",
          "text": [
            "2145/2145 [==============================] - 0s 35us/step\n",
            "[0.09105806726333306, 0.9757575757575757]\n"
          ],
          "name": "stdout"
        }
      ]
    }
  ]
}